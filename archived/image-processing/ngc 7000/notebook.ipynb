{
 "cells": [
  {
   "cell_type": "code",
   "execution_count": 1,
   "id": "initial_id",
   "metadata": {
    "collapsed": true,
    "ExecuteTime": {
     "end_time": "2023-09-04T21:17:39.925816Z",
     "start_time": "2023-09-04T21:17:38.801960Z"
    }
   },
   "outputs": [
    {
     "name": "stdout",
     "output_type": "stream",
     "text": [
      "Requirement already satisfied: astropy in /Users/johntron/miniconda3/envs/image-processing/lib/python3.11/site-packages (5.3.2)\n",
      "Requirement already satisfied: photutils in /Users/johntron/miniconda3/envs/image-processing/lib/python3.11/site-packages (1.9.0)\n",
      "Requirement already satisfied: astroquery in /Users/johntron/miniconda3/envs/image-processing/lib/python3.11/site-packages (0.4.6)\n",
      "Requirement already satisfied: scikit-image in /Users/johntron/miniconda3/envs/image-processing/lib/python3.11/site-packages (0.21.0)\n",
      "Requirement already satisfied: numpy>=1.21 in /Users/johntron/miniconda3/envs/image-processing/lib/python3.11/site-packages (from astropy) (1.25.2)\n",
      "Requirement already satisfied: pyerfa>=2.0 in /Users/johntron/miniconda3/envs/image-processing/lib/python3.11/site-packages (from astropy) (2.0.0.3)\n",
      "Requirement already satisfied: PyYAML>=3.13 in /Users/johntron/miniconda3/envs/image-processing/lib/python3.11/site-packages (from astropy) (6.0)\n",
      "Requirement already satisfied: packaging>=19.0 in /Users/johntron/miniconda3/envs/image-processing/lib/python3.11/site-packages (from astropy) (23.1)\n",
      "Requirement already satisfied: requests>=2.4.3 in /Users/johntron/miniconda3/envs/image-processing/lib/python3.11/site-packages (from astroquery) (2.31.0)\n",
      "Requirement already satisfied: beautifulsoup4>=4.3.2 in /Users/johntron/miniconda3/envs/image-processing/lib/python3.11/site-packages (from astroquery) (4.12.2)\n",
      "Requirement already satisfied: html5lib>=0.999 in /Users/johntron/miniconda3/envs/image-processing/lib/python3.11/site-packages (from astroquery) (1.1)\n",
      "Requirement already satisfied: keyring>=4.0 in /Users/johntron/miniconda3/envs/image-processing/lib/python3.11/site-packages (from astroquery) (24.2.0)\n",
      "Requirement already satisfied: pyvo>=1.1 in /Users/johntron/miniconda3/envs/image-processing/lib/python3.11/site-packages (from astroquery) (1.4.2)\n",
      "Requirement already satisfied: scipy>=1.8 in /Users/johntron/miniconda3/envs/image-processing/lib/python3.11/site-packages (from scikit-image) (1.11.2)\n",
      "Requirement already satisfied: networkx>=2.8 in /Users/johntron/miniconda3/envs/image-processing/lib/python3.11/site-packages (from scikit-image) (3.1)\n",
      "Requirement already satisfied: pillow>=9.0.1 in /Users/johntron/miniconda3/envs/image-processing/lib/python3.11/site-packages (from scikit-image) (10.0.0)\n",
      "Requirement already satisfied: imageio>=2.27 in /Users/johntron/miniconda3/envs/image-processing/lib/python3.11/site-packages (from scikit-image) (2.31.2)\n",
      "Requirement already satisfied: tifffile>=2022.8.12 in /Users/johntron/miniconda3/envs/image-processing/lib/python3.11/site-packages (from scikit-image) (2023.8.30)\n",
      "Requirement already satisfied: PyWavelets>=1.1.1 in /Users/johntron/miniconda3/envs/image-processing/lib/python3.11/site-packages (from scikit-image) (1.4.1)\n",
      "Requirement already satisfied: lazy_loader>=0.2 in /Users/johntron/miniconda3/envs/image-processing/lib/python3.11/site-packages (from scikit-image) (0.3)\n",
      "Requirement already satisfied: soupsieve>1.2 in /Users/johntron/miniconda3/envs/image-processing/lib/python3.11/site-packages (from beautifulsoup4>=4.3.2->astroquery) (2.4)\n",
      "Requirement already satisfied: six>=1.9 in /Users/johntron/miniconda3/envs/image-processing/lib/python3.11/site-packages (from html5lib>=0.999->astroquery) (1.16.0)\n",
      "Requirement already satisfied: webencodings in /Users/johntron/miniconda3/envs/image-processing/lib/python3.11/site-packages (from html5lib>=0.999->astroquery) (0.5.1)\n",
      "Requirement already satisfied: jaraco.classes in /Users/johntron/miniconda3/envs/image-processing/lib/python3.11/site-packages (from keyring>=4.0->astroquery) (3.3.0)\n",
      "Requirement already satisfied: importlib-metadata>=4.11.4 in /Users/johntron/miniconda3/envs/image-processing/lib/python3.11/site-packages (from keyring>=4.0->astroquery) (6.8.0)\n",
      "Requirement already satisfied: charset-normalizer<4,>=2 in /Users/johntron/miniconda3/envs/image-processing/lib/python3.11/site-packages (from requests>=2.4.3->astroquery) (2.0.4)\n",
      "Requirement already satisfied: idna<4,>=2.5 in /Users/johntron/miniconda3/envs/image-processing/lib/python3.11/site-packages (from requests>=2.4.3->astroquery) (3.4)\n",
      "Requirement already satisfied: urllib3<3,>=1.21.1 in /Users/johntron/miniconda3/envs/image-processing/lib/python3.11/site-packages (from requests>=2.4.3->astroquery) (1.26.16)\n",
      "Requirement already satisfied: certifi>=2017.4.17 in /Users/johntron/miniconda3/envs/image-processing/lib/python3.11/site-packages (from requests>=2.4.3->astroquery) (2023.7.22)\n",
      "Requirement already satisfied: zipp>=0.5 in /Users/johntron/miniconda3/envs/image-processing/lib/python3.11/site-packages (from importlib-metadata>=4.11.4->keyring>=4.0->astroquery) (3.16.2)\n",
      "Requirement already satisfied: more-itertools in /Users/johntron/miniconda3/envs/image-processing/lib/python3.11/site-packages (from jaraco.classes->keyring>=4.0->astroquery) (10.1.0)\n"
     ]
    }
   ],
   "source": [
    "%%bash\n",
    "pip install astropy photutils astroquery scikit-image"
   ]
  }
 ],
 "metadata": {
  "kernelspec": {
   "display_name": "Python 3",
   "language": "python",
   "name": "python3"
  },
  "language_info": {
   "codemirror_mode": {
    "name": "ipython",
    "version": 2
   },
   "file_extension": ".py",
   "mimetype": "text/x-python",
   "name": "python",
   "nbconvert_exporter": "python",
   "pygments_lexer": "ipython2",
   "version": "2.7.6"
  }
 },
 "nbformat": 4,
 "nbformat_minor": 5
}
