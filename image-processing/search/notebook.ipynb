{
 "cells": [
  {
   "cell_type": "code",
   "execution_count": 2,
   "outputs": [
    {
     "name": "stdout",
     "output_type": "stream",
     "text": [
      "Requirement already satisfied: pyvo in /home/johntron/miniconda3/envs/image-processing/lib/python3.10/site-packages (1.4.2)\n",
      "Requirement already satisfied: astropy in /home/johntron/miniconda3/envs/image-processing/lib/python3.10/site-packages (5.3.3)\n",
      "Requirement already satisfied: requests in /home/johntron/miniconda3/envs/image-processing/lib/python3.10/site-packages (from pyvo) (2.31.0)\n",
      "Requirement already satisfied: numpy<2,>=1.21 in /home/johntron/miniconda3/envs/image-processing/lib/python3.10/site-packages (from astropy) (1.25.2)\n",
      "Requirement already satisfied: pyerfa>=2.0 in /home/johntron/miniconda3/envs/image-processing/lib/python3.10/site-packages (from astropy) (2.0.0.3)\n",
      "Requirement already satisfied: PyYAML>=3.13 in /home/johntron/miniconda3/envs/image-processing/lib/python3.10/site-packages (from astropy) (6.0)\n",
      "Requirement already satisfied: packaging>=19.0 in /home/johntron/miniconda3/envs/image-processing/lib/python3.10/site-packages (from astropy) (23.1)\n",
      "Requirement already satisfied: charset-normalizer<4,>=2 in /home/johntron/miniconda3/envs/image-processing/lib/python3.10/site-packages (from requests->pyvo) (2.0.4)\n",
      "Requirement already satisfied: idna<4,>=2.5 in /home/johntron/miniconda3/envs/image-processing/lib/python3.10/site-packages (from requests->pyvo) (3.4)\n",
      "Requirement already satisfied: urllib3<3,>=1.21.1 in /home/johntron/miniconda3/envs/image-processing/lib/python3.10/site-packages (from requests->pyvo) (1.26.16)\n",
      "Requirement already satisfied: certifi>=2017.4.17 in /home/johntron/miniconda3/envs/image-processing/lib/python3.10/site-packages (from requests->pyvo) (2023.7.22)\n"
     ]
    },
    {
     "name": "stderr",
     "output_type": "stream",
     "text": [
      "\n",
      "[notice] A new release of pip is available: 23.1.2 -> 23.2.1\n",
      "[notice] To update, run: pip install --upgrade pip\n"
     ]
    }
   ],
   "source": [
    "%%bash\n",
    "pip install pyvo astropy"
   ],
   "metadata": {
    "collapsed": false,
    "ExecuteTime": {
     "end_time": "2023-09-11T18:55:13.022877570Z",
     "start_time": "2023-09-11T18:55:11.968268528Z"
    }
   },
   "id": "cbfa79870f9e0490"
  },
  {
   "cell_type": "code",
   "execution_count": 67,
   "outputs": [
    {
     "name": "stdout",
     "output_type": "stream",
     "text": [
      "Collecting pyongc\r\n",
      "  Downloading PyOngc-1.0.1-py3-none-any.whl (2.1 MB)\r\n",
      "\u001B[2K     \u001B[90m━━━━━━━━━━━━━━━━━━━━━━━━━━━━━━━━━━━━━━━━\u001B[0m \u001B[32m2.1/2.1 MB\u001B[0m \u001B[31m14.0 MB/s\u001B[0m eta \u001B[36m0:00:00\u001B[0ma \u001B[36m0:00:01\u001B[0m\r\n",
      "\u001B[?25hRequirement already satisfied: Click in /home/johntron/miniconda3/envs/image-processing/lib/python3.10/site-packages (from pyongc) (8.0.4)\r\n",
      "Requirement already satisfied: numpy in /home/johntron/miniconda3/envs/image-processing/lib/python3.10/site-packages (from pyongc) (1.25.2)\r\n",
      "Installing collected packages: pyongc\r\n",
      "Successfully installed pyongc-1.0.1\r\n",
      "\r\n",
      "\u001B[1m[\u001B[0m\u001B[34;49mnotice\u001B[0m\u001B[1;39;49m]\u001B[0m\u001B[39;49m A new release of pip is available: \u001B[0m\u001B[31;49m23.1.2\u001B[0m\u001B[39;49m -> \u001B[0m\u001B[32;49m23.2.1\u001B[0m\r\n",
      "\u001B[1m[\u001B[0m\u001B[34;49mnotice\u001B[0m\u001B[1;39;49m]\u001B[0m\u001B[39;49m To update, run: \u001B[0m\u001B[32;49m/home/johntron/miniconda3/envs/image-processing/bin/python -m pip install --upgrade pip\u001B[0m\r\n",
      "Note: you may need to restart the kernel to use updated packages.\n"
     ]
    }
   ],
   "source": [
    "pip install pyongc"
   ],
   "metadata": {
    "collapsed": false,
    "ExecuteTime": {
     "end_time": "2023-09-12T20:31:06.270545038Z",
     "start_time": "2023-09-12T20:31:04.567849882Z"
    }
   },
   "id": "c1a38367f8544cc2"
  },
  {
   "cell_type": "code",
   "execution_count": 68,
   "outputs": [
    {
     "data": {
      "text/plain": "array([[20.  , 59.  , 17.14],\n       [44.  , 31.  , 43.6 ]])"
     },
     "execution_count": 68,
     "metadata": {},
     "output_type": "execute_result"
    }
   ],
   "source": [
    "from pyongc import ongc\n",
    "\n",
    "DSOobject = ongc.get(\"NGC7000\")\n",
    "DSOobject.coords"
   ],
   "metadata": {
    "collapsed": false,
    "ExecuteTime": {
     "end_time": "2023-09-12T20:31:08.324572977Z",
     "start_time": "2023-09-12T20:31:08.314775626Z"
    }
   },
   "id": "4d224f870fbad956"
  },
  {
   "cell_type": "code",
   "execution_count": 64,
   "outputs": [
    {
     "data": {
      "text/plain": "<Table length=265>\n                   ivoid                    ...       intf_roles     \n                                            ...                      \n                   object                   ...         object       \n------------------------------------------- ... ---------------------\n                     ivo://3crsnapshots/sia ... std:::py VO sep:::std\n               ivo://archive.stsci.edu/borg ...                   std\n             ivo://archive.stsci.edu/ghosts ...                   std\n          ivo://archive.stsci.edu/sia/galex ...                   std\n           ivo://archive.stsci.edu/siap/hla ...                   std\n                            ivo://arvo/siap ...                   std\n ivo://astron.nl/apertif_dr_bootes/q/cutout ...                   std\nivo://astron.nl/hetdex/lotss-dr1-img/cutout ...                   std\n  ivo://astron.nl/hetdex/lotss-dr1-img/imgs ...                   std\n                                        ... ...                   ...\n        ivo://wfau.roe.ac.uk/ukidssdr3-siap ...                   std\n        ivo://wfau.roe.ac.uk/ukidssdr4-siap ...                   std\n        ivo://wfau.roe.ac.uk/ukidssdr5-siap ...                   std\n        ivo://wfau.roe.ac.uk/ukidssdr6-siap ...                   std\n        ivo://wfau.roe.ac.uk/ukidssdr7-siap ...                   std\n        ivo://wfau.roe.ac.uk/ukidssdr8-siap ...                   std\n        ivo://wfau.roe.ac.uk/ukidssdr9-siap ...                   std\n           ivo://wfau.roe.ac.uk/vhsdr1-siap ...                   std\n            ivo://wfau.roe.ac.uk/vista-siap ...                   std\n               ivo://xcatdb/3xmmdr7/epicsia ...    std:::py VO sep:::",
      "text/html": "<div><i>Table length=265</i>\n<table id=\"table140212963841104\" class=\"table-striped table-bordered table-condensed\">\n<thead><tr><th>ivoid</th><th>res_type</th><th>short_name</th><th>res_title</th><th>content_level</th><th>res_description</th><th>reference_url</th><th>creator_seq</th><th>content_type</th><th>source_format</th><th>source_value</th><th>region_of_regard</th><th>waveband</th><th>access_urls</th><th>standard_ids</th><th>intf_types</th><th>intf_roles</th></tr></thead>\n<thead><tr><th></th><th></th><th></th><th></th><th></th><th></th><th></th><th></th><th></th><th></th><th></th><th>deg</th><th></th><th></th><th></th><th></th><th></th></tr></thead>\n<thead><tr><th>object</th><th>object</th><th>object</th><th>object</th><th>object</th><th>object</th><th>object</th><th>object</th><th>object</th><th>object</th><th>object</th><th>float32</th><th>object</th><th>object</th><th>object</th><th>object</th><th>object</th></tr></thead>\n<tr><td>ivo://3crsnapshots/sia</td><td>vs:catalogservice</td><td>3CRSnap.sia</td><td>3CRSnapshots Simple Image Access Service</td><td></td><td>Simple Image Access Service for 3CRSnapshot resources managed at the Observatoire de Strasbourg</td><td>http://cdsweb.u-strasbg.fr/~allen/3CRSnapshots</td><td>Mark Allen</td><td></td><td></td><td></td><td>--</td><td></td><td>https://xcatdb.unistra.fr/3CSnapshots:::py VO sep:::https://xcatdb.unistra.fr/3CSnapshots/siaservice?collection=%255BMAData%255D&amp;</td><td>ivo://ivoa.net/std/sia:::py VO sep:::ivo://ivoa.net/std/sia</td><td>vr:webbrowser:::py VO sep:::vs:paramhttp</td><td>std:::py VO sep:::std</td></tr>\n<tr><td>ivo://archive.stsci.edu/borg</td><td>vs:catalogservice</td><td>BoRG</td><td>Brightest of Reionizing Galaxies (BoRG)</td><td>research</td><td>The Brightest of Reionizing Galaxies (BoRG) observations were first obtained in HST Cycle 17 in program GO 11700 (PI: Michele Trenti). BoRG is an ongoing pure-parallel program that obtains WFC3 imaging in four filters (F606W, F098M, F125W, F160W) on random sightlines at high Galactic latitudes (|b| &gt; 30 degrees). BoRG also assimilates data from the similar Hubble Infrared Pure Parallel Imaging Extragalactic Survey (HIPPIES) pure-parallel program (GO 11702; PI: Yan). Data from the HIPPIES program uses the F600LP filter instead of F606W.</td><td>http://archive.stsci.edu/prepds/borg/</td><td>Michael Trenti</td><td>archive</td><td></td><td></td><td>--</td><td>infrared#optical</td><td>http://archive.stsci.edu/siap/search.php?id=borg&amp;</td><td>ivo://ivoa.net/std/sia</td><td>vs:paramhttp</td><td>std</td></tr>\n<tr><td>ivo://archive.stsci.edu/ghosts</td><td>vs:catalogservice</td><td>GHOSTS</td><td>Galaxy Halos, Outer disks, Substructure, Thick disks and Star clusters (GHOSTS)</td><td>research</td><td>The GHOSTS survey is the largest study to date of the resolved stellar populations in the outskirts of disk galaxies. The sample consists of 14 disk galaxies within 17 Mpc, whose outer disks and halos are imaged with the Hubble Space Telescope Advanced Camera for Surveys (ACS).</td><td>http://archive.stsci.edu/prepds/ghosts</td><td>PI: Roelof De Jong</td><td>archive</td><td></td><td></td><td>--</td><td>optical</td><td>http://archive.stsci.edu/siap/search.php?id=ghosts&amp;</td><td>ivo://ivoa.net/std/sia</td><td>vs:paramhttp</td><td>std</td></tr>\n<tr><td>ivo://archive.stsci.edu/sia/galex</td><td>vs:catalogservice</td><td>GALEX</td><td>Galaxy Evolution Explorer (GALEX)</td><td>research</td><td>The Galaxy Evolution Explorer (GALEX), a NASA Small Explorer mission, is performing the first all-sky, deep imaging and spectroscopic ultraviolet surveys in space. The prime goal of GALEX is to study star formation in galaxies and its evolution with time.</td><td>http://galex.stsci.edu</td><td>Chris Martin</td><td>archive</td><td></td><td></td><td>--</td><td>uv</td><td>https://mast.stsci.edu/portal_vo/Mashup/VoQuery.asmx/SiaV1?MISSION=GALEX&amp;</td><td>ivo://ivoa.net/std/sia</td><td>vs:paramhttp</td><td>std</td></tr>\n<tr><td>ivo://archive.stsci.edu/siap/hla</td><td>vs:catalogservice</td><td>HLA</td><td>Hubble Legacy Archive</td><td>research</td><td>The Hubble Space Telecope Legacy Archive (HLA) was developed at the Space Telescope Science Institute to optimize the science return from HST instruments.  This resource is an image service which accesses all HLA observation data.  The calibrated data is fully online with several forms of access including footprint visualization,  composite images, extracted spectra and source lists.</td><td>http://hla.stsci.edu</td><td>Rick White</td><td>archive</td><td></td><td></td><td>--</td><td>optical#infrared#uv</td><td>http://hla.stsci.edu/cgi-bin/hlaSIAP.cgi?imagetype=best&amp;inst=ACS,ACSGrism,WFC3,WFPC2,NICMOS,NICGRISM,COS,STIS,FOS,GHRS&amp;proprietary=false&amp;</td><td>ivo://ivoa.net/std/sia</td><td>vs:paramhttp</td><td>std</td></tr>\n<tr><td>ivo://arvo/siap</td><td>vs:catalogservice</td><td>ArVO SIAP</td><td>Armenian Virtual Observatory SIAP</td><td></td><td>Armenian Virtual Observatory SIAP API service gives possibility to make a SIAP http request to ArVO astronomical database, which contains the data gained by Byurakan Observatory. The main part of ArVO astronomical data is the First Byurakan Survey (FBS), which is the largest and the first systematic objective prism survey of the extragalactic sky. It covers 17,000 sq.deg. in the Northern sky together with a high galactic latitudes region in the Southern sky.</td><td>http://arvo.sci.am/api/search.php</td><td>Aram Knyazyan</td><td></td><td></td><td></td><td>--</td><td></td><td>http://arvo.sci.am/api/search.php?</td><td>ivo://ivoa.net/std/sia</td><td>vs:paramhttp</td><td>std</td></tr>\n<tr><td>ivo://astron.nl/apertif_dr_bootes/q/cutout</td><td>vs:catalogservice</td><td>DR Bootes</td><td>Apertif DR Bootes - Mosaic</td><td>research</td><td>This service provides mosaic from the images of the Apertif DR Bootes.</td><td>https://vo.astron.nl/apertif_dr_bootes/q/cutout/info</td><td>Apertif Team</td><td>survey images and catalogs</td><td></td><td></td><td>--</td><td>radio</td><td>https://vo.astron.nl/apertif_dr_bootes/q/cutout/siap.xml?</td><td>ivo://ivoa.net/std/sia</td><td>vs:paramhttp</td><td>std</td></tr>\n<tr><td>ivo://astron.nl/hetdex/lotss-dr1-img/cutout</td><td>vs:catalogservice</td><td>LoTSS-DR1 Cutout</td><td>LoTSS-DR1 Image Cutout Service</td><td></td><td>This service provides cutouts from the images of the LOFAR Two-metre\\nSky Survey First Data Release (LoTSS-DR1). This data release contains\\nimages and catalogs that characterise the low-frequency radio emission\\nin the region of the HETDEX Spring Field (right ascension 10h45m00s\\nto15h30m00s and declination 45◦00′00′′ to 57◦00′00′′). A total of\\n325,694 radio sources are detected in a region covering 424 square\\ndegrees. The maps have a median sensitivity of 71 uJy/beam and a\\nresolution of 6 arcsec. Optical counterparts for 71% of the radio\\nsources have been identified and where possible photometric redshifts\\nfor these sources have been derived.</td><td>https://vo.astron.nl/hetdex/lotss-dr1-img/cutout/info</td><td>Shimwell, T.</td><td></td><td></td><td></td><td>--</td><td>radio</td><td>https://vo.astron.nl/hetdex/lotss-dr1-img/cutout/siap.xml?</td><td>ivo://ivoa.net/std/sia</td><td>vs:paramhttp</td><td>std</td></tr>\n<tr><td>ivo://astron.nl/hetdex/lotss-dr1-img/imgs</td><td>vs:catalogservice</td><td>LoTSS-DR1 images</td><td>LoTSS-DR1 Image Archive</td><td></td><td>This service queries the catalog of images from the LOFAR Two-metre\\nSky Survey First Data Release (LoTSS-DR1). This data release contains\\nimages and catalogs that characterise the low-frequency radio emission\\nin the region of the HETDEX Spring Field (right ascension 10h45m00s\\nto15h30m00s and declination 45◦00′00′′ to 57◦00′00′′). A total of\\n325,694 radio sources are detected in a region covering 424 square\\ndegrees. The maps have a median sensitivity of 71 uJy/beam and a\\nresolution of 6 arcsec. Optical counterparts for 71% of the radio\\nsources have been identified and where possible photometric redshifts\\nfor these sources have been derived.</td><td>https://vo.astron.nl/hetdex/lotss-dr1-img/imgs/info</td><td>Shimwell, T.</td><td></td><td></td><td></td><td>--</td><td>radio</td><td>https://vo.astron.nl/hetdex/lotss-dr1-img/imgs/siap.xml?</td><td>ivo://ivoa.net/std/sia</td><td>vs:paramhttp</td><td>std</td></tr>\n<tr><td>...</td><td>...</td><td>...</td><td>...</td><td>...</td><td>...</td><td>...</td><td>...</td><td>...</td><td>...</td><td>...</td><td>...</td><td>...</td><td>...</td><td>...</td><td>...</td><td>...</td></tr>\n<tr><td>ivo://wfau.roe.ac.uk/ukidssdr3-siap</td><td>vs:catalogservice</td><td>UKIDSS DR3 SIAP</td><td>UKIDSS DR3 SIAP Service</td><td>research</td><td>Simple image access to UKIDSS data release 3 images.</td><td>http://wfaudata.roe.ac.uk/ukidssdr3-siap</td><td>WFAU, Institute for Astronomy, University of Edinburgh</td><td>survey</td><td></td><td></td><td>--</td><td>infrared</td><td>http://wfaudata.roe.ac.uk/ukidssdr3-siap/?</td><td>ivo://ivoa.net/std/sia</td><td>vs:paramhttp</td><td>std</td></tr>\n<tr><td>ivo://wfau.roe.ac.uk/ukidssdr4-siap</td><td>vs:catalogservice</td><td>UKIDSS DR4 SIAP</td><td>UKIDSS DR4 SIAP Service</td><td>research</td><td>Simple image access to UKIDSS data release 4 images.</td><td>http://wfaudata.roe.ac.uk/ukidssdr4-siap</td><td>WFAU, Institute for Astronomy, University of Edinburgh</td><td>survey</td><td></td><td></td><td>--</td><td>infrared</td><td>http://wfaudata.roe.ac.uk/ukidssdr4-siap/?</td><td>ivo://ivoa.net/std/sia</td><td>vs:paramhttp</td><td>std</td></tr>\n<tr><td>ivo://wfau.roe.ac.uk/ukidssdr5-siap</td><td>vs:catalogservice</td><td>UKIDSS DR5 SIAP</td><td>UKIDSS DR5 SIAP Service</td><td>research</td><td>Simple image access to UKIDSS data release 5 images.</td><td>http://wfaudata.roe.ac.uk/ukidssdr5-siap</td><td>WFAU, Institute for Astronomy, University of Edinburgh</td><td>survey</td><td></td><td></td><td>--</td><td>infrared</td><td>http://wfaudata.roe.ac.uk/ukidssdr5-siap/?</td><td>ivo://ivoa.net/std/sia</td><td>vs:paramhttp</td><td>std</td></tr>\n<tr><td>ivo://wfau.roe.ac.uk/ukidssdr6-siap</td><td>vs:catalogservice</td><td>UKIDSS DR6 SIAP</td><td>UKIDSS DR6 SIAP Service</td><td>research</td><td>Simple image access to UKIDSS data release 6 images.</td><td>http://wfaudata.roe.ac.uk/ukidssdr6-siap</td><td>WFAU, Institute for Astronomy, University of Edinburgh</td><td>survey</td><td></td><td></td><td>--</td><td>infrared</td><td>http://wfaudata.roe.ac.uk/ukidssdr6-siap/?</td><td>ivo://ivoa.net/std/sia</td><td>vs:paramhttp</td><td>std</td></tr>\n<tr><td>ivo://wfau.roe.ac.uk/ukidssdr7-siap</td><td>vs:catalogservice</td><td>UKIDSS DR7 SIAP</td><td>UKIDSS DR7 SIAP Service</td><td>research</td><td>Simple image access to UKIDSS data release 7 images.</td><td>http://wfaudata.roe.ac.uk/ukidssdr7-siap</td><td>WFAU, Institute for Astronomy, University of Edinburgh</td><td>survey</td><td></td><td></td><td>--</td><td>infrared</td><td>http://wfaudata.roe.ac.uk/ukidssdr7-siap/?</td><td>ivo://ivoa.net/std/sia</td><td>vs:paramhttp</td><td>std</td></tr>\n<tr><td>ivo://wfau.roe.ac.uk/ukidssdr8-siap</td><td>vs:catalogservice</td><td>UKIDSS DR8 SIAP</td><td>UKIDSS DR8 SIAP Service</td><td>research</td><td>Simple image access to UKIDSS data release 9 images for the LAS, GCS, DXS, and UDS surveys. GPS images are from DR7.</td><td>http://wfaudata.roe.ac.uk/ukidssdr8-siap</td><td>WFAU, Institute for Astronomy, University of Edinburgh</td><td>survey</td><td></td><td></td><td>--</td><td>infrared</td><td>http://wfaudata.roe.ac.uk/ukidssdr8-siap/?</td><td>ivo://ivoa.net/std/sia</td><td>vs:paramhttp</td><td>std</td></tr>\n<tr><td>ivo://wfau.roe.ac.uk/ukidssdr9-siap</td><td>vs:catalogservice</td><td>UKIDSS DR9 SIAP</td><td>UKIDSS DR9 SIAP Service</td><td>research</td><td>Simple image access to UKIDSS data release 9 images for the LAS, GCS, DXS, and UDS surveys.</td><td>http://wfaudata.roe.ac.uk/ukidssdr9-siap</td><td>WFAU, Institute for Astronomy, University of Edinburgh</td><td>survey</td><td></td><td></td><td>--</td><td>infrared</td><td>http://wfaudata.roe.ac.uk/ukidssdr9-siap/?</td><td>ivo://ivoa.net/std/sia</td><td>vs:paramhttp</td><td>std</td></tr>\n<tr><td>ivo://wfau.roe.ac.uk/vhsdr1-siap</td><td>vs:catalogservice</td><td>VHS DR1 SIAP</td><td>VHS DR1 SIAP Service</td><td>research</td><td>Simple image access to VISTA Hemisphere Survey data release 1 images.</td><td>http://wfaudata.roe.ac.uk/vhsdr1-siap</td><td>WFAU, Institute for Astronomy, University of Edinburgh</td><td>survey</td><td></td><td></td><td>--</td><td>infrared</td><td>http://wfaudata.roe.ac.uk/vhsdr1-siap/?</td><td>ivo://ivoa.net/std/sia</td><td>vs:paramhttp</td><td>std</td></tr>\n<tr><td>ivo://wfau.roe.ac.uk/vista-siap</td><td>vs:catalogservice</td><td>VISTA SIAP</td><td>VISTA SIAP Service</td><td>research</td><td>Simple image access to all images from the latest releases of the VISTA public surveys (VHS, VMC, VVV, VIDEO, VIKING).</td><td>http://wfaudata.roe.ac.uk/vista-siap</td><td>WFAU, Institute for Astronomy, University of Edinburgh</td><td>survey</td><td></td><td></td><td>--</td><td>infrared</td><td>http://wfaudata.roe.ac.uk/vista-siap/?</td><td>ivo://ivoa.net/std/sia</td><td>vs:paramhttp</td><td>std</td></tr>\n<tr><td>ivo://xcatdb/3xmmdr7/epicsia</td><td>vs:catalogservice</td><td>3XMM-DR7-SIA</td><td>Epic Image SIAP of the SSC Interface for the  3XMM-DR7 Catalogue</td><td></td><td>The 3XMM-DR7 catalogue contains source detections drawn from 9710 XMM-Newton EPIC observations, \\n        \\t\\t    covering an energy interval from 0.2 keV to 12 keV. These observations \\n        \\t\\t    were made between 2000 February 3 and 2016 December 15 and all datasets \\n        \\t\\t    were publicly available by 2016 December 31, but not all public observations are included in this catalogue \\n        \\t\\t\\tThis version of the XMM-Newton EPIC Serendipitous Source Catalogue,\\n        \\t\\t\\t3XMM-DR7 includes 596268 clean detections which relate to 499266 unique\\n        \\t\\t\\tsources from 9710 observations that were public by the 31st January\\n        \\t\\t\\t2016. \\n        \\t\\t\\t3XMM-DR7 covers a total sky area of ~1032 square degrees if overlaps \\n        \\t\\t\\tare taken into account, where some\\n        \\t\\t\\tregions of the sky have been pointed as many as 50 times. \\n        \\t\\t\\tThe median flux in the total photon energy band (0.2 - 12 keV) \\n        \\t\\t\\tof the catalogue detections is ~ 1.9 × 10-14 erg cm-2 s-1; in the \\n        \\t\\t\\tsoft energy band (0.2 - 2 keV) the median flux is ~ 6 × 10-15, \\n        \\t\\t\\tand in the hard band (2 - 12 keV) it is ~ 8 × 10-15. \\n        \\t\\t\\tAbout 23% of the sources have total fluxes below 1 × 10-14 erg cm-2 s-1.</td><td>http://xmmssc.irap.omp.eu/</td><td>SSC XMM-Newton Consortium</td><td></td><td></td><td></td><td>--</td><td></td><td>http://xcatdb.unistra.fr/3xmmdr7/siaservice?collection=[EPIC]&amp;:::py VO sep:::http://xcatdb.unistra.fr/3xmmdr7</td><td>ivo://ivoa.net/std/sia:::py VO sep:::ivo://ivoa.net/std/sia</td><td>vs:paramhttp:::py VO sep:::vr:webbrowser</td><td>std:::py VO sep:::</td></tr>\n</table></div>"
     },
     "metadata": {},
     "output_type": "display_data"
    }
   ],
   "source": [
    "import pyvo as vo\n",
    "from pyvo import registry\n",
    "from astropy import time\n",
    "\n",
    "# yesterday = time.Time.now() - time.TimeDelta(3000, format='jd')\n",
    "# print(yesterday)\n",
    "\n",
    "resources = registry.search(registry.Servicetype('image'))\n",
    "display(resources.to_table())"
   ],
   "metadata": {
    "collapsed": false,
    "ExecuteTime": {
     "end_time": "2023-09-11T19:20:07.272483554Z",
     "start_time": "2023-09-11T19:20:06.176002196Z"
    }
   },
   "id": "8283cb6d869f6a07"
  },
  {
   "cell_type": "code",
   "execution_count": 9,
   "id": "initial_id",
   "metadata": {
    "collapsed": true,
    "ExecuteTime": {
     "end_time": "2023-09-11T18:57:26.792084455Z",
     "start_time": "2023-09-11T18:57:26.749028368Z"
    }
   },
   "outputs": [
    {
     "ename": "NameError",
     "evalue": "name 'pyvo' is not defined",
     "output_type": "error",
     "traceback": [
      "\u001B[0;31m---------------------------------------------------------------------------\u001B[0m",
      "\u001B[0;31mNameError\u001B[0m                                 Traceback (most recent call last)",
      "Cell \u001B[0;32mIn[9], line 7\u001B[0m\n\u001B[1;32m      4\u001B[0m ra, dec \u001B[38;5;241m=\u001B[39m \u001B[38;5;241m187.10375\u001B[39m, \u001B[38;5;241m31.47722222222222\u001B[39m\n\u001B[1;32m      6\u001B[0m \u001B[38;5;66;03m# Search the registry for all services\u001B[39;00m\n\u001B[0;32m----> 7\u001B[0m services \u001B[38;5;241m=\u001B[39m \u001B[43mpyvo\u001B[49m\u001B[38;5;241m.\u001B[39mregsearch(keywords\u001B[38;5;241m=\u001B[39m\u001B[38;5;124m\"\u001B[39m\u001B[38;5;124mDSS\u001B[39m\u001B[38;5;124m\"\u001B[39m, servicetype\u001B[38;5;241m=\u001B[39m\u001B[38;5;124m'\u001B[39m\u001B[38;5;124mimage\u001B[39m\u001B[38;5;124m'\u001B[39m)\n\u001B[1;32m      9\u001B[0m \u001B[38;5;66;03m# Loop over all the services and perform a cone search\u001B[39;00m\n\u001B[1;32m     10\u001B[0m all_results \u001B[38;5;241m=\u001B[39m []\n",
      "\u001B[0;31mNameError\u001B[0m: name 'pyvo' is not defined"
     ]
    }
   ],
   "source": [
    "\n",
    "import pyvo\n",
    "\n",
    "# Define the coordinates for TON 618\n",
    "ra, dec = 187.10375, 31.47722222222222\n",
    "\n",
    "# Search the registry for all services\n",
    "services = pyvo.regsearch(keywords=\"DSS\", servicetype='image')\n",
    "\n",
    "# Loop over all the services and perform a cone search\n",
    "all_results = []\n",
    "for service in services:\n",
    "    try:\n",
    "        results = service.search(pos=(ra, dec), radius=0.1)  # radius in degrees\n",
    "        all_results.extend(results)\n",
    "    except Exception as e:\n",
    "        print(f\"Skipping service {service.access_url} due to error: {e}\")\n",
    "\n",
    "# Process results\n",
    "for record in all_results:\n",
    "    print(record.title)\n",
    "    print(record.getdataurl())\n"
   ]
  }
 ],
 "metadata": {
  "kernelspec": {
   "display_name": "Python 3",
   "language": "python",
   "name": "python3"
  },
  "language_info": {
   "codemirror_mode": {
    "name": "ipython",
    "version": 2
   },
   "file_extension": ".py",
   "mimetype": "text/x-python",
   "name": "python",
   "nbconvert_exporter": "python",
   "pygments_lexer": "ipython2",
   "version": "2.7.6"
  }
 },
 "nbformat": 4,
 "nbformat_minor": 5
}
